{
  "nbformat": 4,
  "nbformat_minor": 0,
  "metadata": {
    "colab": {
      "name": "DAT264x_Multi_Input.ipynb",
      "version": "0.3.2",
      "provenance": [],
      "collapsed_sections": [],
      "toc_visible": true,
      "include_colab_link": true
    },
    "kernelspec": {
      "name": "python3",
      "display_name": "Python 3"
    },
    "accelerator": "GPU"
  },
  "cells": [
    {
      "cell_type": "markdown",
      "metadata": {
        "id": "view-in-github",
        "colab_type": "text"
      },
      "source": [
        "<a href=\"https://colab.research.google.com/github/raduenuca/dat64x-capstone-project/blob/master/DAT264x_Multi_Input.ipynb\" target=\"_parent\"><img src=\"https://colab.research.google.com/assets/colab-badge.svg\" alt=\"Open In Colab\"/></a>"
      ]
    },
    {
      "metadata": {
        "id": "e-rdNX8MMY5M",
        "colab_type": "text"
      },
      "cell_type": "markdown",
      "source": [
        "# DAT264x - 2 inputs network implementation"
      ]
    },
    {
      "metadata": {
        "id": "DMnTRb2CMeXV",
        "colab_type": "text"
      },
      "cell_type": "markdown",
      "source": [
        "## Download and extract data"
      ]
    },
    {
      "metadata": {
        "id": "4YStgUJZMJ8s",
        "colab_type": "code",
        "colab": {}
      },
      "cell_type": "code",
      "source": [
        "!wget https://mpp0xc0ae45ef.blob.core.windows.net/drivendata-mpp-storage/data/10/public/data-release.zip\n",
        "\n",
        "!unzip -o data-release.zip"
      ],
      "execution_count": 0,
      "outputs": []
    },
    {
      "metadata": {
        "id": "sVp6QsyMNBZE",
        "colab_type": "text"
      },
      "cell_type": "markdown",
      "source": [
        "## Import dependencies"
      ]
    },
    {
      "metadata": {
        "id": "eOKe9Q2hNFUQ",
        "colab_type": "code",
        "colab": {}
      },
      "cell_type": "code",
      "source": [
        "import pandas as pd\n",
        "import numpy as np\n",
        "from skimage.io import imread\n",
        "from sklearn.model_selection import train_test_split\n",
        "from matplotlib import pyplot as plt\n",
        "%matplotlib inline\n",
        "\n",
        "import keras\n",
        "from keras import optimizers\n",
        "from keras.utils import to_categorical\n",
        "from keras.layers import Input, Dense, Flatten, Dropout, Conv2D, MaxPooling2D, GlobalAveragePooling2D, Activation, concatenate\n",
        "from keras.layers.advanced_activations import LeakyReLU\n",
        "from keras.layers.normalization import BatchNormalization\n",
        "from keras.models import Model\n",
        "from keras.callbacks import ModelCheckpoint, ReduceLROnPlateau"
      ],
      "execution_count": 0,
      "outputs": []
    },
    {
      "metadata": {
        "id": "JKU892ePNM9f",
        "colab_type": "text"
      },
      "cell_type": "markdown",
      "source": [
        "## Read data"
      ]
    },
    {
      "metadata": {
        "id": "nWaPSqzJNR8j",
        "colab_type": "code",
        "outputId": "d4e47bfa-ec5b-4d4b-b4e8-df6a6482ea22",
        "colab": {
          "base_uri": "https://localhost:8080/",
          "height": 134
        }
      },
      "cell_type": "code",
      "source": [
        "train_df = pd.read_csv('train_labels.csv', index_col=0)\n",
        "\n",
        "train_df['current_file'] = train_df.index.map(lambda id: f'train/{id}_c.png')\n",
        "train_df['voltage_file'] = train_df.index.map(lambda id: f'train/{id}_v.png')\n",
        "\n",
        "print(train_df.head())"
      ],
      "execution_count": 0,
      "outputs": [
        {
          "output_type": "stream",
          "text": [
            "      appliance      current_file      voltage_file\n",
            "id                                                 \n",
            "1000          8  train/1000_c.png  train/1000_v.png\n",
            "1001          1  train/1001_c.png  train/1001_v.png\n",
            "1002          8  train/1002_c.png  train/1002_v.png\n",
            "1003         10  train/1003_c.png  train/1003_v.png\n",
            "1004          6  train/1004_c.png  train/1004_v.png\n"
          ],
          "name": "stdout"
        }
      ]
    },
    {
      "metadata": {
        "id": "MuHKYm0nNtzp",
        "colab_type": "text"
      },
      "cell_type": "markdown",
      "source": [
        "### Helper functions"
      ]
    },
    {
      "metadata": {
        "id": "g6N_mbbgNySu",
        "colab_type": "code",
        "colab": {}
      },
      "cell_type": "code",
      "source": [
        "def read_spectograms(file_paths, img_rows, img_cols, as_gray, channels):\n",
        "  \"\"\"\n",
        "  Reads the spectogram files from disk and normalizes the pixel values\n",
        "    @params:\n",
        "      file_paths - Array of file paths to read from\n",
        "      img_rows - The image height.\n",
        "      img_cols - The image width.\n",
        "      as_grey - Read the image as Greyscale or RGB.\n",
        "      channels - Number of channels.\n",
        "    @returns:\n",
        "      The created and compiled model (Model)        \n",
        "  \"\"\"\n",
        "  images = []\n",
        "  \n",
        "  for file_path in file_paths:\n",
        "    images.append(imread(file_path, as_grey = as_gray))\n",
        "  \n",
        "  images = np.asarray(images, dtype=np.float32)\n",
        "  \n",
        "  # normalize\n",
        "  images = images / np.max(images)\n",
        "  \n",
        "  # reshape to match Keras expectaions\n",
        "  images = images.reshape(images.shape[0], img_rows, img_cols, channels)\n",
        "\n",
        "  return images"
      ],
      "execution_count": 0,
      "outputs": []
    },
    {
      "metadata": {
        "id": "PhqD4hGoP68X",
        "colab_type": "text"
      },
      "cell_type": "markdown",
      "source": [
        "### Parameters"
      ]
    },
    {
      "metadata": {
        "id": "dNO2UCq9QCUZ",
        "colab_type": "code",
        "colab": {}
      },
      "cell_type": "code",
      "source": [
        "as_gray = True\n",
        "in_channel = 4\n",
        "\n",
        "if as_gray:\n",
        "  in_channel = 1\n",
        "\n",
        "img_rows, img_cols = 128, 118\n",
        "num_classes = 11 # number of appliances\n",
        "\n",
        "batch_size = 32\n",
        "epochs = 100\n",
        "input_shape = (img_rows, img_cols, in_channel)\n",
        "input_img = Input(shape = input_shape)"
      ],
      "execution_count": 0,
      "outputs": []
    },
    {
      "metadata": {
        "id": "D2lGPNz4RGcG",
        "colab_type": "text"
      },
      "cell_type": "markdown",
      "source": [
        "### Current files"
      ]
    },
    {
      "metadata": {
        "id": "6AiWRbntRJQd",
        "colab_type": "code",
        "colab": {}
      },
      "cell_type": "code",
      "source": [
        "x_train_current = read_spectograms(train_df.current_file.values, img_rows, img_cols, as_gray, in_channel)"
      ],
      "execution_count": 0,
      "outputs": []
    },
    {
      "metadata": {
        "id": "BbI2PNdoRT7v",
        "colab_type": "text"
      },
      "cell_type": "markdown",
      "source": [
        "### Voltage files"
      ]
    },
    {
      "metadata": {
        "id": "vtSPe4cERW1M",
        "colab_type": "code",
        "colab": {}
      },
      "cell_type": "code",
      "source": [
        "x_train_voltage = read_spectograms(train_df.voltage_file.values, img_rows, img_cols, as_gray, in_channel)"
      ],
      "execution_count": 0,
      "outputs": []
    },
    {
      "metadata": {
        "id": "8cRrZWjrRg2b",
        "colab_type": "text"
      },
      "cell_type": "markdown",
      "source": [
        "### Labels"
      ]
    },
    {
      "metadata": {
        "id": "1lqqJ0H3Rjpi",
        "colab_type": "code",
        "colab": {}
      },
      "cell_type": "code",
      "source": [
        "labels = train_df.appliance.values\n",
        "\n",
        "# convert class vectors to binary class matrices One Hot Encoding\n",
        "labels = keras.utils.to_categorical(labels, num_classes)"
      ],
      "execution_count": 0,
      "outputs": []
    },
    {
      "metadata": {
        "id": "TeHuqRTna0RB",
        "colab_type": "text"
      },
      "cell_type": "markdown",
      "source": [
        "## Show data"
      ]
    },
    {
      "metadata": {
        "id": "o5wtqPhoa3Gb",
        "colab_type": "code",
        "outputId": "52293858-3dfb-4857-8199-fc8b43ce71fb",
        "colab": {
          "base_uri": "https://localhost:8080/",
          "height": 251
        }
      },
      "cell_type": "code",
      "source": [
        "appliances = [\n",
        "    'Compact Fluorescent Lamp', \n",
        "    'Hairdryer', \n",
        "    'Microwave', \n",
        "    'Air Conditioner', \n",
        "    'Fridge', \n",
        "    'Laptop', \n",
        "    'Vacuum', \n",
        "    'Incandescent Light Bulb', \n",
        "    'Fan',\n",
        "    'Washing Machine',\n",
        "    'Heater'\n",
        "]\n",
        "\n",
        "# pick a random index from the list\n",
        "rn_appliance = np.random.choice(train_df.appliance.values)\n",
        "rn_label = train_df.appliance.values[rn_appliance]\n",
        "rn_current = x_train_current[rn_appliance]\n",
        "rn_voltage = x_train_voltage[rn_appliance]\n",
        "\n",
        "plt.figure()\n",
        "plt.axis('off')\n",
        "\n",
        "plt.suptitle(f\"{appliances[rn_label]} (Label: {rn_label})\", fontsize=\"x-large\")\n",
        "\n",
        "plt.subplot(121)\n",
        "curr_img = None\n",
        "if as_gray:\n",
        "  curr_img = np.reshape(rn_current, (img_rows, img_cols))\n",
        "else:\n",
        "  curr_img = np.reshape(rn_current, (img_rows, img_cols, in_channel))\n",
        "\n",
        "plt.imshow(curr_img, cmap='gray')\n",
        "plt.title(\"Current\")\n",
        "plt.xticks([])\n",
        "plt.yticks([])\n",
        "\n",
        "plt.subplot(122)\n",
        "if as_gray:\n",
        "  curr_img = np.reshape(rn_voltage, (img_rows, img_cols))\n",
        "else:\n",
        "  curr_img = np.reshape(rn_voltage, (img_rows, img_cols, in_channel))\n",
        "\n",
        "plt.imshow(curr_img, cmap='gray')\n",
        "plt.title(\"Voltage\")\n",
        "plt.xticks([])\n",
        "plt.yticks([])\n",
        "plt.show()"
      ],
      "execution_count": 0,
      "outputs": [
        {
          "output_type": "display_data",
          "data": {
            "image/png": "[encoded data removed]",
            "text/plain": [
              "<matplotlib.figure.Figure at 0x7fdb7acb5ef0>"
            ]
          },
          "metadata": {
            "tags": []
          }
        }
      ]
    },
    {
      "metadata": {
        "id": "2Nb8YE5QiB25",
        "colab_type": "text"
      },
      "cell_type": "markdown",
      "source": [
        "## Create and train the model"
      ]
    },
    {
      "metadata": {
        "id": "vKFhnj77iIEV",
        "colab_type": "text"
      },
      "cell_type": "markdown",
      "source": [
        "### Split in train and test batches"
      ]
    },
    {
      "metadata": {
        "id": "qAB-x5ATiEAK",
        "colab_type": "code",
        "colab": {}
      },
      "cell_type": "code",
      "source": [
        "# stack so we can split on the same pair of images\n",
        "x_train_comp = np.stack((x_train_current, x_train_voltage), axis=4)\n",
        "\n",
        "x_train, x_test, y_train, y_test = train_test_split(x_train_comp, labels, test_size = 0.3, random_state=666)\n",
        "\n",
        "# take them apart\n",
        "x_train_current = x_train[:,:,:,:,0]\n",
        "x_test_current = x_test[:,:,:,:,0]\n",
        "\n",
        "x_train_voltage = x_train[:,:,:,:,1]\n",
        "x_test_voltage = x_test[:,:,:,:,1]"
      ],
      "execution_count": 0,
      "outputs": []
    },
    {
      "metadata": {
        "id": "qzTpYBw4lRhU",
        "colab_type": "text"
      },
      "cell_type": "markdown",
      "source": [
        "### Create the model"
      ]
    },
    {
      "metadata": {
        "id": "IaYN4dM4lUhH",
        "colab_type": "code",
        "colab": {}
      },
      "cell_type": "code",
      "source": [
        "def create_convolution_layers(input_img):\n",
        "  model = Conv2D(32, (3, 3), padding='same', input_shape=input_shape)(input_img)\n",
        "  model = LeakyReLU(alpha=0.1)(model)\n",
        "  model = MaxPooling2D((2, 2),padding='same')(model)\n",
        "  model = Dropout(0.25)(model)\n",
        "  \n",
        "  model = Conv2D(64, (3, 3), padding='same')(model)\n",
        "  model = LeakyReLU(alpha=0.1)(model)\n",
        "  model = MaxPooling2D(pool_size=(2, 2),padding='same')(model)\n",
        "  model = Dropout(0.25)(model)\n",
        "    \n",
        "  model = Conv2D(128, (3, 3), padding='same')(model)\n",
        "  model = LeakyReLU(alpha=0.1)(model)\n",
        "  model = MaxPooling2D(pool_size=(2, 2),padding='same')(model)\n",
        "  model = Dropout(0.4)(model)\n",
        "    \n",
        "  return model"
      ],
      "execution_count": 0,
      "outputs": []
    },
    {
      "metadata": {
        "id": "ji6DTOJ-mh2F",
        "colab_type": "code",
        "outputId": "21e30f8e-03a6-4919-fba4-3dd0d2bb760d",
        "colab": {
          "base_uri": "https://localhost:8080/",
          "height": 1243
        }
      },
      "cell_type": "code",
      "source": [
        "current_input = Input(shape=input_shape)\n",
        "current_model = create_convolution_layers(current_input)\n",
        "\n",
        "voltage_input = Input(shape=input_shape)\n",
        "voltage_model = create_convolution_layers(voltage_input)\n",
        "\n",
        "conv = concatenate([current_model, voltage_model])\n",
        "\n",
        "conv = Flatten()(conv)\n",
        "\n",
        "dense = Dense(512)(conv)\n",
        "dense = LeakyReLU(alpha=0.1)(dense)\n",
        "dense = Dropout(0.5)(dense)\n",
        "\n",
        "output = Dense(num_classes, activation='softmax')(dense)\n",
        "\n",
        "model = Model(inputs=[current_input, voltage_input], outputs=[output])\n",
        "\n",
        "opt = optimizers.Adam()\n",
        "\n",
        "model.compile(loss='categorical_crossentropy',\n",
        "              optimizer=opt,\n",
        "              metrics=['accuracy'])\n",
        "\n",
        "print(model.summary())"
      ],
      "execution_count": 0,
      "outputs": [
        {
          "output_type": "stream",
          "text": [
            "__________________________________________________________________________________________________\n",
            "Layer (type)                    Output Shape         Param #     Connected to                     \n",
            "==================================================================================================\n",
            "input_48 (InputLayer)           (None, 128, 118, 1)  0                                            \n",
            "__________________________________________________________________________________________________\n",
            "input_49 (InputLayer)           (None, 128, 118, 1)  0                                            \n",
            "__________________________________________________________________________________________________\n",
            "conv2d_97 (Conv2D)              (None, 128, 118, 32) 320         input_48[0][0]                   \n",
            "__________________________________________________________________________________________________\n",
            "conv2d_100 (Conv2D)             (None, 128, 118, 32) 320         input_49[0][0]                   \n",
            "__________________________________________________________________________________________________\n",
            "leaky_re_lu_113 (LeakyReLU)     (None, 128, 118, 32) 0           conv2d_97[0][0]                  \n",
            "__________________________________________________________________________________________________\n",
            "leaky_re_lu_116 (LeakyReLU)     (None, 128, 118, 32) 0           conv2d_100[0][0]                 \n",
            "__________________________________________________________________________________________________\n",
            "max_pooling2d_97 (MaxPooling2D) (None, 64, 59, 32)   0           leaky_re_lu_113[0][0]            \n",
            "__________________________________________________________________________________________________\n",
            "max_pooling2d_100 (MaxPooling2D (None, 64, 59, 32)   0           leaky_re_lu_116[0][0]            \n",
            "__________________________________________________________________________________________________\n",
            "dropout_113 (Dropout)           (None, 64, 59, 32)   0           max_pooling2d_97[0][0]           \n",
            "__________________________________________________________________________________________________\n",
            "dropout_116 (Dropout)           (None, 64, 59, 32)   0           max_pooling2d_100[0][0]          \n",
            "__________________________________________________________________________________________________\n",
            "conv2d_98 (Conv2D)              (None, 64, 59, 64)   18496       dropout_113[0][0]                \n",
            "__________________________________________________________________________________________________\n",
            "conv2d_101 (Conv2D)             (None, 64, 59, 64)   18496       dropout_116[0][0]                \n",
            "__________________________________________________________________________________________________\n",
            "leaky_re_lu_114 (LeakyReLU)     (None, 64, 59, 64)   0           conv2d_98[0][0]                  \n",
            "__________________________________________________________________________________________________\n",
            "leaky_re_lu_117 (LeakyReLU)     (None, 64, 59, 64)   0           conv2d_101[0][0]                 \n",
            "__________________________________________________________________________________________________\n",
            "max_pooling2d_98 (MaxPooling2D) (None, 32, 30, 64)   0           leaky_re_lu_114[0][0]            \n",
            "__________________________________________________________________________________________________\n",
            "max_pooling2d_101 (MaxPooling2D (None, 32, 30, 64)   0           leaky_re_lu_117[0][0]            \n",
            "__________________________________________________________________________________________________\n",
            "dropout_114 (Dropout)           (None, 32, 30, 64)   0           max_pooling2d_98[0][0]           \n",
            "__________________________________________________________________________________________________\n",
            "dropout_117 (Dropout)           (None, 32, 30, 64)   0           max_pooling2d_101[0][0]          \n",
            "__________________________________________________________________________________________________\n",
            "conv2d_99 (Conv2D)              (None, 32, 30, 128)  73856       dropout_114[0][0]                \n",
            "__________________________________________________________________________________________________\n",
            "conv2d_102 (Conv2D)             (None, 32, 30, 128)  73856       dropout_117[0][0]                \n",
            "__________________________________________________________________________________________________\n",
            "leaky_re_lu_115 (LeakyReLU)     (None, 32, 30, 128)  0           conv2d_99[0][0]                  \n",
            "__________________________________________________________________________________________________\n",
            "leaky_re_lu_118 (LeakyReLU)     (None, 32, 30, 128)  0           conv2d_102[0][0]                 \n",
            "__________________________________________________________________________________________________\n",
            "max_pooling2d_99 (MaxPooling2D) (None, 16, 15, 128)  0           leaky_re_lu_115[0][0]            \n",
            "__________________________________________________________________________________________________\n",
            "max_pooling2d_102 (MaxPooling2D (None, 16, 15, 128)  0           leaky_re_lu_118[0][0]            \n",
            "__________________________________________________________________________________________________\n",
            "dropout_115 (Dropout)           (None, 16, 15, 128)  0           max_pooling2d_99[0][0]           \n",
            "__________________________________________________________________________________________________\n",
            "dropout_118 (Dropout)           (None, 16, 15, 128)  0           max_pooling2d_102[0][0]          \n",
            "__________________________________________________________________________________________________\n",
            "concatenate_17 (Concatenate)    (None, 16, 15, 256)  0           dropout_115[0][0]                \n",
            "                                                                 dropout_118[0][0]                \n",
            "__________________________________________________________________________________________________\n",
            "flatten_17 (Flatten)            (None, 61440)        0           concatenate_17[0][0]             \n",
            "__________________________________________________________________________________________________\n",
            "dense_33 (Dense)                (None, 512)          31457792    flatten_17[0][0]                 \n",
            "__________________________________________________________________________________________________\n",
            "leaky_re_lu_119 (LeakyReLU)     (None, 512)          0           dense_33[0][0]                   \n",
            "__________________________________________________________________________________________________\n",
            "dropout_119 (Dropout)           (None, 512)          0           leaky_re_lu_119[0][0]            \n",
            "__________________________________________________________________________________________________\n",
            "dense_34 (Dense)                (None, 11)           5643        dropout_119[0][0]                \n",
            "==================================================================================================\n",
            "Total params: 31,648,779\n",
            "Trainable params: 31,648,779\n",
            "Non-trainable params: 0\n",
            "__________________________________________________________________________________________________\n",
            "None\n"
          ],
          "name": "stdout"
        }
      ]
    },
    {
      "metadata": {
        "id": "NcLxOrLAnrle",
        "colab_type": "text"
      },
      "cell_type": "markdown",
      "source": [
        "### Train the model"
      ]
    },
    {
      "metadata": {
        "id": "dJkMeWMdn5fP",
        "colab_type": "code",
        "outputId": "c957efca-577a-47f5-f1ea-fe3cc8a53369",
        "colab": {
          "base_uri": "https://localhost:8080/",
          "height": 6770
        }
      },
      "cell_type": "code",
      "source": [
        "best_weights_file=\"weights.best.hdf5\"\n",
        "checkpoint = ModelCheckpoint(best_weights_file, monitor='val_acc', verbose=1, save_best_only=True, mode='max')\n",
        "#lr_reducer = ReduceLROnPlateau(verbose=1)\n",
        "\n",
        "callbacks = [checkpoint]\n",
        "\n",
        "model.fit([x_train_current, x_train_voltage], y_train,\n",
        "          batch_size=batch_size,\n",
        "          epochs=epochs,\n",
        "          callbacks=callbacks,\n",
        "          verbose=1,\n",
        "          validation_data=([x_test_current, x_test_voltage], y_test),\n",
        "          shuffle=True)"
      ],
      "execution_count": 0,
      "outputs": [
        {
          "output_type": "stream",
          "text": [
            "Train on 691 samples, validate on 297 samples\n",
            "Epoch 1/100\n",
            "691/691 [==============================] - 8s 12ms/step - loss: 2.6935 - acc: 0.1592 - val_loss: 2.2595 - val_acc: 0.2559\n",
            "\n",
            "Epoch 00001: val_acc improved from -inf to 0.25589, saving model to weights.best.hdf5\n",
            "Epoch 2/100\n",
            "691/691 [==============================] - 4s 5ms/step - loss: 1.9830 - acc: 0.3111 - val_loss: 1.6995 - val_acc: 0.5455\n",
            "\n",
            "Epoch 00002: val_acc improved from 0.25589 to 0.54545, saving model to weights.best.hdf5\n",
            "Epoch 3/100\n",
            "691/691 [==============================] - 3s 5ms/step - loss: 1.5713 - acc: 0.4689 - val_loss: 1.4813 - val_acc: 0.5623\n",
            "\n",
            "Epoch 00003: val_acc improved from 0.54545 to 0.56229, saving model to weights.best.hdf5\n",
            "Epoch 4/100\n",
            "691/691 [==============================] - 3s 5ms/step - loss: 1.3313 - acc: 0.5412 - val_loss: 1.1982 - val_acc: 0.6195\n",
            "\n",
            "Epoch 00004: val_acc improved from 0.56229 to 0.61953, saving model to weights.best.hdf5\n",
            "Epoch 5/100\n",
            "691/691 [==============================] - 4s 5ms/step - loss: 1.1639 - acc: 0.6368 - val_loss: 1.3889 - val_acc: 0.5657\n",
            "\n",
            "Epoch 00005: val_acc did not improve from 0.61953\n",
            "Epoch 6/100\n",
            "691/691 [==============================] - 3s 5ms/step - loss: 0.9997 - acc: 0.6686 - val_loss: 0.9836 - val_acc: 0.7071\n",
            "\n",
            "Epoch 00006: val_acc improved from 0.61953 to 0.70707, saving model to weights.best.hdf5\n",
            "Epoch 7/100\n",
            "691/691 [==============================] - 3s 5ms/step - loss: 0.8138 - acc: 0.7337 - val_loss: 0.7917 - val_acc: 0.7744\n",
            "\n",
            "Epoch 00007: val_acc improved from 0.70707 to 0.77441, saving model to weights.best.hdf5\n",
            "Epoch 8/100\n",
            "691/691 [==============================] - 3s 5ms/step - loss: 0.7185 - acc: 0.7641 - val_loss: 0.7613 - val_acc: 0.7609\n",
            "\n",
            "Epoch 00008: val_acc did not improve from 0.77441\n",
            "Epoch 9/100\n",
            "691/691 [==============================] - 3s 5ms/step - loss: 0.5793 - acc: 0.7931 - val_loss: 0.6605 - val_acc: 0.8148\n",
            "\n",
            "Epoch 00009: val_acc improved from 0.77441 to 0.81481, saving model to weights.best.hdf5\n",
            "Epoch 10/100\n",
            "691/691 [==============================] - 4s 5ms/step - loss: 0.5260 - acc: 0.8234 - val_loss: 0.7257 - val_acc: 0.7475\n",
            "\n",
            "Epoch 00010: val_acc did not improve from 0.81481\n",
            "Epoch 11/100\n",
            "691/691 [==============================] - 3s 5ms/step - loss: 0.4955 - acc: 0.8336 - val_loss: 0.5651 - val_acc: 0.8215\n",
            "\n",
            "Epoch 00011: val_acc improved from 0.81481 to 0.82155, saving model to weights.best.hdf5\n",
            "Epoch 12/100\n",
            "691/691 [==============================] - 3s 5ms/step - loss: 0.4120 - acc: 0.8538 - val_loss: 0.5965 - val_acc: 0.8182\n",
            "\n",
            "Epoch 00012: val_acc did not improve from 0.82155\n",
            "Epoch 13/100\n",
            "691/691 [==============================] - 3s 5ms/step - loss: 0.3126 - acc: 0.9001 - val_loss: 0.6071 - val_acc: 0.7879\n",
            "\n",
            "Epoch 00013: val_acc did not improve from 0.82155\n",
            "Epoch 14/100\n",
            "691/691 [==============================] - 3s 5ms/step - loss: 0.2985 - acc: 0.8958 - val_loss: 0.5540 - val_acc: 0.8519\n",
            "\n",
            "Epoch 00014: val_acc improved from 0.82155 to 0.85185, saving model to weights.best.hdf5\n",
            "Epoch 15/100\n",
            "691/691 [==============================] - 4s 5ms/step - loss: 0.3163 - acc: 0.9016 - val_loss: 0.5564 - val_acc: 0.8350\n",
            "\n",
            "Epoch 00015: val_acc did not improve from 0.85185\n",
            "Epoch 16/100\n",
            "691/691 [==============================] - 3s 5ms/step - loss: 0.2569 - acc: 0.9262 - val_loss: 0.6139 - val_acc: 0.8249\n",
            "\n",
            "Epoch 00016: val_acc did not improve from 0.85185\n",
            "Epoch 17/100\n",
            "691/691 [==============================] - 3s 5ms/step - loss: 0.1950 - acc: 0.9276 - val_loss: 0.4921 - val_acc: 0.8552\n",
            "\n",
            "Epoch 00017: val_acc improved from 0.85185 to 0.85522, saving model to weights.best.hdf5\n",
            "Epoch 18/100\n",
            "691/691 [==============================] - 4s 5ms/step - loss: 0.2336 - acc: 0.9175 - val_loss: 0.4609 - val_acc: 0.8855\n",
            "\n",
            "Epoch 00018: val_acc improved from 0.85522 to 0.88552, saving model to weights.best.hdf5\n",
            "Epoch 19/100\n",
            "691/691 [==============================] - 3s 5ms/step - loss: 0.1695 - acc: 0.9378 - val_loss: 0.5025 - val_acc: 0.8653\n",
            "\n",
            "Epoch 00019: val_acc did not improve from 0.88552\n",
            "Epoch 20/100\n",
            "691/691 [==============================] - 3s 5ms/step - loss: 0.1702 - acc: 0.9493 - val_loss: 0.4431 - val_acc: 0.8855\n",
            "\n",
            "Epoch 00020: val_acc did not improve from 0.88552\n",
            "Epoch 21/100\n",
            "691/691 [==============================] - 3s 5ms/step - loss: 0.1595 - acc: 0.9537 - val_loss: 0.5161 - val_acc: 0.8519\n",
            "\n",
            "Epoch 00021: val_acc did not improve from 0.88552\n",
            "Epoch 22/100\n",
            "691/691 [==============================] - 3s 5ms/step - loss: 0.1042 - acc: 0.9711 - val_loss: 0.4816 - val_acc: 0.8754\n",
            "\n",
            "Epoch 00022: val_acc did not improve from 0.88552\n",
            "Epoch 23/100\n",
            "691/691 [==============================] - 3s 5ms/step - loss: 0.0724 - acc: 0.9667 - val_loss: 0.5512 - val_acc: 0.8687\n",
            "\n",
            "Epoch 00023: val_acc did not improve from 0.88552\n",
            "Epoch 24/100\n",
            "691/691 [==============================] - 3s 5ms/step - loss: 0.0779 - acc: 0.9797 - val_loss: 0.5927 - val_acc: 0.8754\n",
            "\n",
            "Epoch 00024: val_acc did not improve from 0.88552\n",
            "Epoch 25/100\n",
            "691/691 [==============================] - 3s 5ms/step - loss: 0.0613 - acc: 0.9783 - val_loss: 0.4829 - val_acc: 0.8956\n",
            "\n",
            "Epoch 00025: val_acc improved from 0.88552 to 0.89562, saving model to weights.best.hdf5\n",
            "Epoch 26/100\n",
            "691/691 [==============================] - 4s 5ms/step - loss: 0.0423 - acc: 0.9884 - val_loss: 0.5196 - val_acc: 0.8956\n",
            "\n",
            "Epoch 00026: val_acc did not improve from 0.89562\n",
            "Epoch 27/100\n",
            "691/691 [==============================] - 3s 5ms/step - loss: 0.0590 - acc: 0.9812 - val_loss: 0.5898 - val_acc: 0.8721\n",
            "\n",
            "Epoch 00027: val_acc did not improve from 0.89562\n",
            "Epoch 28/100\n",
            "691/691 [==============================] - 3s 5ms/step - loss: 0.0791 - acc: 0.9754 - val_loss: 0.4973 - val_acc: 0.8855\n",
            "\n",
            "Epoch 00028: val_acc did not improve from 0.89562\n",
            "Epoch 29/100\n",
            "691/691 [==============================] - 3s 5ms/step - loss: 0.1004 - acc: 0.9667 - val_loss: 0.5414 - val_acc: 0.8653\n",
            "\n",
            "Epoch 00029: val_acc did not improve from 0.89562\n",
            "Epoch 30/100\n",
            "691/691 [==============================] - 3s 5ms/step - loss: 0.0734 - acc: 0.9754 - val_loss: 0.5262 - val_acc: 0.8855\n",
            "\n",
            "Epoch 00030: val_acc did not improve from 0.89562\n",
            "Epoch 31/100\n",
            "691/691 [==============================] - 3s 5ms/step - loss: 0.0553 - acc: 0.9783 - val_loss: 0.7230 - val_acc: 0.8350\n",
            "\n",
            "Epoch 00031: val_acc did not improve from 0.89562\n",
            "Epoch 32/100\n",
            "691/691 [==============================] - 3s 5ms/step - loss: 0.0505 - acc: 0.9884 - val_loss: 0.5946 - val_acc: 0.8855\n",
            "\n",
            "Epoch 00032: val_acc did not improve from 0.89562\n",
            "Epoch 33/100\n",
            "691/691 [==============================] - 3s 5ms/step - loss: 0.0470 - acc: 0.9841 - val_loss: 0.5071 - val_acc: 0.8822\n",
            "\n",
            "Epoch 00033: val_acc did not improve from 0.89562\n",
            "Epoch 34/100\n",
            "691/691 [==============================] - 3s 5ms/step - loss: 0.0331 - acc: 0.9884 - val_loss: 0.7054 - val_acc: 0.8620\n",
            "\n",
            "Epoch 00034: val_acc did not improve from 0.89562\n",
            "Epoch 35/100\n",
            "691/691 [==============================] - 3s 5ms/step - loss: 0.0509 - acc: 0.9870 - val_loss: 0.5858 - val_acc: 0.9024\n",
            "\n",
            "Epoch 00035: val_acc improved from 0.89562 to 0.90236, saving model to weights.best.hdf5\n",
            "Epoch 36/100\n",
            "691/691 [==============================] - 3s 5ms/step - loss: 0.0173 - acc: 0.9957 - val_loss: 0.5650 - val_acc: 0.8855\n",
            "\n",
            "Epoch 00036: val_acc did not improve from 0.90236\n",
            "Epoch 37/100\n",
            "691/691 [==============================] - 3s 5ms/step - loss: 0.0185 - acc: 0.9942 - val_loss: 0.5272 - val_acc: 0.8956\n",
            "\n",
            "Epoch 00037: val_acc did not improve from 0.90236\n",
            "Epoch 38/100\n",
            "691/691 [==============================] - 3s 5ms/step - loss: 0.0254 - acc: 0.9913 - val_loss: 0.6247 - val_acc: 0.8889\n",
            "\n",
            "Epoch 00038: val_acc did not improve from 0.90236\n",
            "Epoch 39/100\n",
            "691/691 [==============================] - 3s 5ms/step - loss: 0.0212 - acc: 0.9942 - val_loss: 0.6105 - val_acc: 0.8923\n",
            "\n",
            "Epoch 00039: val_acc did not improve from 0.90236\n",
            "Epoch 40/100\n",
            "691/691 [==============================] - 3s 5ms/step - loss: 0.0195 - acc: 0.9986 - val_loss: 0.5922 - val_acc: 0.8923\n",
            "\n",
            "Epoch 00040: val_acc did not improve from 0.90236\n",
            "Epoch 41/100\n",
            "691/691 [==============================] - 3s 5ms/step - loss: 0.0107 - acc: 0.9986 - val_loss: 0.6011 - val_acc: 0.8855\n",
            "\n",
            "Epoch 00041: val_acc did not improve from 0.90236\n",
            "Epoch 42/100\n",
            "691/691 [==============================] - 3s 5ms/step - loss: 0.0118 - acc: 0.9971 - val_loss: 0.5866 - val_acc: 0.8990\n",
            "\n",
            "Epoch 00042: val_acc did not improve from 0.90236\n",
            "Epoch 43/100\n",
            "691/691 [==============================] - 3s 5ms/step - loss: 0.0475 - acc: 0.9870 - val_loss: 0.6623 - val_acc: 0.8721\n",
            "\n",
            "Epoch 00043: val_acc did not improve from 0.90236\n",
            "Epoch 44/100\n",
            "691/691 [==============================] - 3s 5ms/step - loss: 0.0484 - acc: 0.9884 - val_loss: 0.5791 - val_acc: 0.8855\n",
            "\n",
            "Epoch 00044: val_acc did not improve from 0.90236\n",
            "Epoch 45/100\n",
            "691/691 [==============================] - 3s 5ms/step - loss: 0.0785 - acc: 0.9740 - val_loss: 0.6691 - val_acc: 0.8788\n",
            "\n",
            "Epoch 00045: val_acc did not improve from 0.90236\n",
            "Epoch 46/100\n",
            "691/691 [==============================] - 3s 5ms/step - loss: 0.0528 - acc: 0.9826 - val_loss: 0.5713 - val_acc: 0.8822\n",
            "\n",
            "Epoch 00046: val_acc did not improve from 0.90236\n",
            "Epoch 47/100\n",
            "691/691 [==============================] - 3s 5ms/step - loss: 0.0713 - acc: 0.9797 - val_loss: 0.6396 - val_acc: 0.8822\n",
            "\n",
            "Epoch 00047: val_acc did not improve from 0.90236\n",
            "Epoch 48/100\n",
            "691/691 [==============================] - 3s 5ms/step - loss: 0.0372 - acc: 0.9899 - val_loss: 0.5986 - val_acc: 0.8923\n",
            "\n",
            "Epoch 00048: val_acc did not improve from 0.90236\n",
            "Epoch 49/100\n",
            "691/691 [==============================] - 3s 5ms/step - loss: 0.0429 - acc: 0.9870 - val_loss: 0.8121 - val_acc: 0.8384\n",
            "\n",
            "Epoch 00049: val_acc did not improve from 0.90236\n",
            "Epoch 50/100\n",
            "691/691 [==============================] - 3s 5ms/step - loss: 0.0475 - acc: 0.9899 - val_loss: 0.4850 - val_acc: 0.8956\n",
            "\n",
            "Epoch 00050: val_acc did not improve from 0.90236\n",
            "Epoch 51/100\n",
            "691/691 [==============================] - 3s 5ms/step - loss: 0.0216 - acc: 0.9928 - val_loss: 0.6512 - val_acc: 0.8855\n",
            "\n",
            "Epoch 00051: val_acc did not improve from 0.90236\n",
            "Epoch 52/100\n",
            "691/691 [==============================] - 3s 5ms/step - loss: 0.0498 - acc: 0.9841 - val_loss: 0.5080 - val_acc: 0.9091\n",
            "\n",
            "Epoch 00052: val_acc improved from 0.90236 to 0.90909, saving model to weights.best.hdf5\n",
            "Epoch 53/100\n",
            "691/691 [==============================] - 4s 5ms/step - loss: 0.0231 - acc: 0.9913 - val_loss: 0.4807 - val_acc: 0.9091\n",
            "\n",
            "Epoch 00053: val_acc did not improve from 0.90909\n",
            "Epoch 54/100\n",
            "691/691 [==============================] - 3s 5ms/step - loss: 0.0217 - acc: 0.9971 - val_loss: 0.5359 - val_acc: 0.8889\n",
            "\n",
            "Epoch 00054: val_acc did not improve from 0.90909\n",
            "Epoch 55/100\n",
            "691/691 [==============================] - 3s 5ms/step - loss: 0.0267 - acc: 0.9899 - val_loss: 0.4946 - val_acc: 0.8990\n",
            "\n",
            "Epoch 00055: val_acc did not improve from 0.90909\n",
            "Epoch 56/100\n",
            "691/691 [==============================] - 3s 5ms/step - loss: 0.0114 - acc: 0.9986 - val_loss: 0.5880 - val_acc: 0.8754\n",
            "\n",
            "Epoch 00056: val_acc did not improve from 0.90909\n",
            "Epoch 57/100\n",
            "691/691 [==============================] - 3s 5ms/step - loss: 0.0164 - acc: 0.9971 - val_loss: 0.5264 - val_acc: 0.8956\n",
            "\n",
            "Epoch 00057: val_acc did not improve from 0.90909\n",
            "Epoch 58/100\n",
            "691/691 [==============================] - 3s 5ms/step - loss: 0.0285 - acc: 0.9942 - val_loss: 0.6097 - val_acc: 0.8721\n",
            "\n",
            "Epoch 00058: val_acc did not improve from 0.90909\n",
            "Epoch 59/100\n",
            "691/691 [==============================] - 3s 5ms/step - loss: 0.0068 - acc: 1.0000 - val_loss: 0.4243 - val_acc: 0.9091\n",
            "\n",
            "Epoch 00059: val_acc did not improve from 0.90909\n",
            "Epoch 60/100\n",
            "691/691 [==============================] - 3s 5ms/step - loss: 0.0044 - acc: 0.9986 - val_loss: 0.4971 - val_acc: 0.8923\n",
            "\n",
            "Epoch 00060: val_acc did not improve from 0.90909\n",
            "Epoch 61/100\n",
            "691/691 [==============================] - 3s 5ms/step - loss: 0.0044 - acc: 0.9986 - val_loss: 0.5130 - val_acc: 0.8990\n",
            "\n",
            "Epoch 00061: val_acc did not improve from 0.90909\n",
            "Epoch 62/100\n",
            "691/691 [==============================] - 3s 5ms/step - loss: 0.0033 - acc: 0.9986 - val_loss: 0.5236 - val_acc: 0.9158\n",
            "\n",
            "Epoch 00062: val_acc improved from 0.90909 to 0.91582, saving model to weights.best.hdf5\n",
            "Epoch 63/100\n",
            "691/691 [==============================] - 3s 5ms/step - loss: 0.0046 - acc: 0.9986 - val_loss: 0.5822 - val_acc: 0.9024\n",
            "\n",
            "Epoch 00063: val_acc did not improve from 0.91582\n",
            "Epoch 64/100\n",
            "691/691 [==============================] - 3s 5ms/step - loss: 0.0070 - acc: 0.9971 - val_loss: 0.6920 - val_acc: 0.8956\n",
            "\n",
            "Epoch 00064: val_acc did not improve from 0.91582\n",
            "Epoch 65/100\n",
            "691/691 [==============================] - 3s 5ms/step - loss: 0.0151 - acc: 0.9942 - val_loss: 0.5772 - val_acc: 0.9192\n",
            "\n",
            "Epoch 00065: val_acc improved from 0.91582 to 0.91919, saving model to weights.best.hdf5\n",
            "Epoch 66/100\n",
            "691/691 [==============================] - 4s 5ms/step - loss: 0.0181 - acc: 0.9928 - val_loss: 0.5728 - val_acc: 0.9125\n",
            "\n",
            "Epoch 00066: val_acc did not improve from 0.91919\n",
            "Epoch 67/100\n",
            "691/691 [==============================] - 3s 5ms/step - loss: 0.0248 - acc: 0.9899 - val_loss: 0.6023 - val_acc: 0.8855\n",
            "\n",
            "Epoch 00067: val_acc did not improve from 0.91919\n",
            "Epoch 68/100\n",
            "691/691 [==============================] - 3s 5ms/step - loss: 0.0219 - acc: 0.9928 - val_loss: 0.5278 - val_acc: 0.8923\n",
            "\n",
            "Epoch 00068: val_acc did not improve from 0.91919\n",
            "Epoch 69/100\n",
            "691/691 [==============================] - 3s 5ms/step - loss: 0.0187 - acc: 0.9928 - val_loss: 0.6314 - val_acc: 0.8923\n",
            "\n",
            "Epoch 00069: val_acc did not improve from 0.91919\n",
            "Epoch 70/100\n",
            "691/691 [==============================] - 3s 5ms/step - loss: 0.0331 - acc: 0.9841 - val_loss: 0.5697 - val_acc: 0.8855\n",
            "\n",
            "Epoch 00070: val_acc did not improve from 0.91919\n",
            "Epoch 71/100\n",
            "691/691 [==============================] - 3s 5ms/step - loss: 0.0543 - acc: 0.9812 - val_loss: 0.6275 - val_acc: 0.8889\n",
            "\n",
            "Epoch 00071: val_acc did not improve from 0.91919\n",
            "Epoch 72/100\n",
            "691/691 [==============================] - 3s 5ms/step - loss: 0.0644 - acc: 0.9812 - val_loss: 0.9506 - val_acc: 0.8519\n",
            "\n",
            "Epoch 00072: val_acc did not improve from 0.91919\n",
            "Epoch 73/100\n",
            "691/691 [==============================] - 3s 5ms/step - loss: 0.0732 - acc: 0.9783 - val_loss: 0.7053 - val_acc: 0.8822\n",
            "\n",
            "Epoch 00073: val_acc did not improve from 0.91919\n",
            "Epoch 74/100\n",
            "691/691 [==============================] - 3s 5ms/step - loss: 0.1039 - acc: 0.9653 - val_loss: 0.7201 - val_acc: 0.8687\n",
            "\n",
            "Epoch 00074: val_acc did not improve from 0.91919\n",
            "Epoch 75/100\n",
            "691/691 [==============================] - 3s 5ms/step - loss: 0.0831 - acc: 0.9812 - val_loss: 0.6864 - val_acc: 0.8788\n",
            "\n",
            "Epoch 00075: val_acc did not improve from 0.91919\n",
            "Epoch 76/100\n",
            "691/691 [==============================] - 3s 5ms/step - loss: 0.0378 - acc: 0.9899 - val_loss: 0.6690 - val_acc: 0.8889\n",
            "\n",
            "Epoch 00076: val_acc did not improve from 0.91919\n",
            "Epoch 77/100\n",
            "691/691 [==============================] - 3s 5ms/step - loss: 0.0222 - acc: 0.9957 - val_loss: 0.7209 - val_acc: 0.8990\n",
            "\n",
            "Epoch 00077: val_acc did not improve from 0.91919\n",
            "Epoch 78/100\n",
            "691/691 [==============================] - 3s 5ms/step - loss: 0.0119 - acc: 0.9957 - val_loss: 0.7642 - val_acc: 0.8889\n",
            "\n",
            "Epoch 00078: val_acc did not improve from 0.91919\n",
            "Epoch 79/100\n",
            "691/691 [==============================] - 3s 5ms/step - loss: 0.0283 - acc: 0.9899 - val_loss: 0.7129 - val_acc: 0.8822\n",
            "\n",
            "Epoch 00079: val_acc did not improve from 0.91919\n",
            "Epoch 80/100\n",
            "691/691 [==============================] - 3s 5ms/step - loss: 0.0369 - acc: 0.9913 - val_loss: 0.6794 - val_acc: 0.8956\n",
            "\n",
            "Epoch 00080: val_acc did not improve from 0.91919\n",
            "Epoch 81/100\n",
            "691/691 [==============================] - 3s 5ms/step - loss: 0.0301 - acc: 0.9899 - val_loss: 0.7813 - val_acc: 0.8923\n",
            "\n",
            "Epoch 00081: val_acc did not improve from 0.91919\n",
            "Epoch 82/100\n",
            "691/691 [==============================] - 3s 5ms/step - loss: 0.0576 - acc: 0.9826 - val_loss: 0.5831 - val_acc: 0.8822\n",
            "\n",
            "Epoch 00082: val_acc did not improve from 0.91919\n",
            "Epoch 83/100\n",
            "691/691 [==============================] - 3s 5ms/step - loss: 0.0736 - acc: 0.9768 - val_loss: 0.8355 - val_acc: 0.8923\n",
            "\n",
            "Epoch 00083: val_acc did not improve from 0.91919\n",
            "Epoch 84/100\n",
            "691/691 [==============================] - 3s 5ms/step - loss: 0.0710 - acc: 0.9783 - val_loss: 0.7989 - val_acc: 0.8822\n",
            "\n",
            "Epoch 00084: val_acc did not improve from 0.91919\n",
            "Epoch 85/100\n",
            "691/691 [==============================] - 3s 5ms/step - loss: 0.0454 - acc: 0.9870 - val_loss: 0.6715 - val_acc: 0.8956\n",
            "\n",
            "Epoch 00085: val_acc did not improve from 0.91919\n",
            "Epoch 86/100\n",
            "691/691 [==============================] - 3s 5ms/step - loss: 0.0558 - acc: 0.9870 - val_loss: 0.5653 - val_acc: 0.8855\n",
            "\n",
            "Epoch 00086: val_acc did not improve from 0.91919\n",
            "Epoch 87/100\n",
            "691/691 [==============================] - 3s 5ms/step - loss: 0.0321 - acc: 0.9899 - val_loss: 0.7625 - val_acc: 0.8822\n",
            "\n",
            "Epoch 00087: val_acc did not improve from 0.91919\n",
            "Epoch 88/100\n",
            "691/691 [==============================] - 3s 5ms/step - loss: 0.0645 - acc: 0.9797 - val_loss: 0.6992 - val_acc: 0.8855\n",
            "\n",
            "Epoch 00088: val_acc did not improve from 0.91919\n",
            "Epoch 89/100\n",
            "691/691 [==============================] - 3s 5ms/step - loss: 0.0512 - acc: 0.9841 - val_loss: 0.6437 - val_acc: 0.8687\n",
            "\n",
            "Epoch 00089: val_acc did not improve from 0.91919\n",
            "Epoch 90/100\n",
            "691/691 [==============================] - 3s 5ms/step - loss: 0.0550 - acc: 0.9768 - val_loss: 0.5326 - val_acc: 0.8923\n",
            "\n",
            "Epoch 00090: val_acc did not improve from 0.91919\n",
            "Epoch 91/100\n",
            "691/691 [==============================] - 3s 5ms/step - loss: 0.0169 - acc: 0.9942 - val_loss: 0.6846 - val_acc: 0.8990\n",
            "\n",
            "Epoch 00091: val_acc did not improve from 0.91919\n",
            "Epoch 92/100\n",
            "691/691 [==============================] - 3s 5ms/step - loss: 0.0449 - acc: 0.9913 - val_loss: 0.6056 - val_acc: 0.8855\n",
            "\n",
            "Epoch 00092: val_acc did not improve from 0.91919\n",
            "Epoch 93/100\n",
            "691/691 [==============================] - 3s 5ms/step - loss: 0.0276 - acc: 0.9884 - val_loss: 0.6215 - val_acc: 0.9057\n",
            "\n",
            "Epoch 00093: val_acc did not improve from 0.91919\n",
            "Epoch 94/100\n",
            "691/691 [==============================] - 3s 5ms/step - loss: 0.0120 - acc: 0.9942 - val_loss: 0.6469 - val_acc: 0.8889\n",
            "\n",
            "Epoch 00094: val_acc did not improve from 0.91919\n",
            "Epoch 95/100\n",
            "691/691 [==============================] - 3s 5ms/step - loss: 0.0017 - acc: 1.0000 - val_loss: 0.6868 - val_acc: 0.8889\n",
            "\n",
            "Epoch 00095: val_acc did not improve from 0.91919\n",
            "Epoch 96/100\n",
            "691/691 [==============================] - 3s 5ms/step - loss: 0.0127 - acc: 0.9957 - val_loss: 0.6843 - val_acc: 0.8956\n",
            "\n",
            "Epoch 00096: val_acc did not improve from 0.91919\n",
            "Epoch 97/100\n",
            "691/691 [==============================] - 3s 5ms/step - loss: 0.0371 - acc: 0.9870 - val_loss: 0.7868 - val_acc: 0.8822\n",
            "\n",
            "Epoch 00097: val_acc did not improve from 0.91919\n",
            "Epoch 98/100\n",
            "691/691 [==============================] - 3s 5ms/step - loss: 0.0264 - acc: 0.9884 - val_loss: 0.7700 - val_acc: 0.8822\n",
            "\n",
            "Epoch 00098: val_acc did not improve from 0.91919\n",
            "Epoch 99/100\n",
            "691/691 [==============================] - 3s 5ms/step - loss: 0.0189 - acc: 0.9942 - val_loss: 0.6238 - val_acc: 0.9057\n",
            "\n",
            "Epoch 00099: val_acc did not improve from 0.91919\n",
            "Epoch 100/100\n",
            "691/691 [==============================] - 3s 5ms/step - loss: 0.0112 - acc: 0.9942 - val_loss: 0.8342 - val_acc: 0.8721\n",
            "\n",
            "Epoch 00100: val_acc did not improve from 0.91919\n"
          ],
          "name": "stdout"
        },
        {
          "output_type": "execute_result",
          "data": {
            "text/plain": [
              "<keras.callbacks.History at 0x7fdb7ac0e588>"
            ]
          },
          "metadata": {
            "tags": []
          },
          "execution_count": 193
        }
      ]
    },
    {
      "metadata": {
        "id": "iw1SN_xEoT3p",
        "colab_type": "text"
      },
      "cell_type": "markdown",
      "source": [
        "### Basic evaluation"
      ]
    },
    {
      "metadata": {
        "id": "H9qKLuReoW2Y",
        "colab_type": "code",
        "outputId": "95a6aea1-556a-40ec-b16d-ad8c2586e308",
        "colab": {
          "base_uri": "https://localhost:8080/",
          "height": 50
        }
      },
      "cell_type": "code",
      "source": [
        "# load weights\n",
        "model.load_weights(best_weights_file)\n",
        "\n",
        "final_loss, final_acc = model.evaluate([x_test_current, x_test_voltage], y_test, verbose=1)\n",
        "print(\"Final loss: {0:.6f}, final accuracy: {1:.6f}\".format(final_loss, final_acc))  "
      ],
      "execution_count": 0,
      "outputs": [
        {
          "output_type": "stream",
          "text": [
            "247/247 [==============================] - 0s 1ms/step\n",
            "Final loss: 0.606500, final accuracy: 0.902834\n"
          ],
          "name": "stdout"
        }
      ]
    },
    {
      "metadata": {
        "id": "ujNeIrFIpoS0",
        "colab_type": "text"
      },
      "cell_type": "markdown",
      "source": [
        "## Predict"
      ]
    },
    {
      "metadata": {
        "id": "C-ZPuwc1pqU2",
        "colab_type": "code",
        "colab": {}
      },
      "cell_type": "code",
      "source": [
        "predict_df = pd.read_csv('submission_format.csv', index_col=0)\n",
        "\n",
        "predict_df['current_file'] = predict_df.index.map(lambda id: f'test/{id}_c.png')\n",
        "predict_df['voltage_file'] = predict_df.index.map(lambda id: f'test/{id}_v.png')\n",
        "\n",
        "x_test_current = read_spectograms(predict_df.current_file.values, img_rows, img_cols, as_gray, in_channel)\n",
        "x_test_voltage = read_spectograms(predict_df.voltage_file.values, img_rows, img_cols, as_gray, in_channel)"
      ],
      "execution_count": 0,
      "outputs": []
    },
    {
      "metadata": {
        "id": "sa3xSaqHp6Ws",
        "colab_type": "code",
        "colab": {}
      },
      "cell_type": "code",
      "source": [
        "#get the predictions for the test data\n",
        "predicted_classes = model.predict([x_test_current, x_test_voltage])\n",
        "\n",
        "predict_df.appliance = np.argmax(predicted_classes,axis=1)\n",
        "\n",
        "predict_df = predict_df.drop(['current_file', 'voltage_file'], axis=1)\n",
        "\n",
        "predict_df.to_csv('submission.csv')\n",
        "\n",
        "from google.colab import files\n",
        "\n",
        "files.download('submission.csv')"
      ],
      "execution_count": 0,
      "outputs": []
    }
  ]
}